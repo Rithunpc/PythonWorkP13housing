{
 "cells": [
  {
   "cell_type": "code",
   "execution_count": 18,
   "id": "043ac66a",
   "metadata": {},
   "outputs": [
    {
     "data": {
      "text/html": [
       "<div>\n",
       "<style scoped>\n",
       "    .dataframe tbody tr th:only-of-type {\n",
       "        vertical-align: middle;\n",
       "    }\n",
       "\n",
       "    .dataframe tbody tr th {\n",
       "        vertical-align: top;\n",
       "    }\n",
       "\n",
       "    .dataframe thead th {\n",
       "        text-align: right;\n",
       "    }\n",
       "</style>\n",
       "<table border=\"1\" class=\"dataframe\">\n",
       "  <thead>\n",
       "    <tr style=\"text-align: right;\">\n",
       "      <th></th>\n",
       "      <th>price</th>\n",
       "      <th>area</th>\n",
       "      <th>bedrooms</th>\n",
       "      <th>bathrooms</th>\n",
       "      <th>stories</th>\n",
       "      <th>mainroad</th>\n",
       "      <th>guestroom</th>\n",
       "      <th>basement</th>\n",
       "      <th>hotwaterheating</th>\n",
       "      <th>airconditioning</th>\n",
       "      <th>parking</th>\n",
       "      <th>prefarea</th>\n",
       "      <th>furnishingstatus</th>\n",
       "    </tr>\n",
       "  </thead>\n",
       "  <tbody>\n",
       "    <tr>\n",
       "      <th>0</th>\n",
       "      <td>13300000</td>\n",
       "      <td>7420</td>\n",
       "      <td>4</td>\n",
       "      <td>2</td>\n",
       "      <td>3</td>\n",
       "      <td>yes</td>\n",
       "      <td>no</td>\n",
       "      <td>no</td>\n",
       "      <td>no</td>\n",
       "      <td>yes</td>\n",
       "      <td>2</td>\n",
       "      <td>yes</td>\n",
       "      <td>furnished</td>\n",
       "    </tr>\n",
       "    <tr>\n",
       "      <th>1</th>\n",
       "      <td>12250000</td>\n",
       "      <td>8960</td>\n",
       "      <td>4</td>\n",
       "      <td>4</td>\n",
       "      <td>4</td>\n",
       "      <td>yes</td>\n",
       "      <td>no</td>\n",
       "      <td>no</td>\n",
       "      <td>no</td>\n",
       "      <td>yes</td>\n",
       "      <td>3</td>\n",
       "      <td>no</td>\n",
       "      <td>furnished</td>\n",
       "    </tr>\n",
       "    <tr>\n",
       "      <th>2</th>\n",
       "      <td>12250000</td>\n",
       "      <td>9960</td>\n",
       "      <td>3</td>\n",
       "      <td>2</td>\n",
       "      <td>2</td>\n",
       "      <td>yes</td>\n",
       "      <td>no</td>\n",
       "      <td>yes</td>\n",
       "      <td>no</td>\n",
       "      <td>no</td>\n",
       "      <td>2</td>\n",
       "      <td>yes</td>\n",
       "      <td>semi-furnished</td>\n",
       "    </tr>\n",
       "    <tr>\n",
       "      <th>3</th>\n",
       "      <td>12215000</td>\n",
       "      <td>7500</td>\n",
       "      <td>4</td>\n",
       "      <td>2</td>\n",
       "      <td>2</td>\n",
       "      <td>yes</td>\n",
       "      <td>no</td>\n",
       "      <td>yes</td>\n",
       "      <td>no</td>\n",
       "      <td>yes</td>\n",
       "      <td>3</td>\n",
       "      <td>yes</td>\n",
       "      <td>furnished</td>\n",
       "    </tr>\n",
       "    <tr>\n",
       "      <th>4</th>\n",
       "      <td>11410000</td>\n",
       "      <td>7420</td>\n",
       "      <td>4</td>\n",
       "      <td>1</td>\n",
       "      <td>2</td>\n",
       "      <td>yes</td>\n",
       "      <td>yes</td>\n",
       "      <td>yes</td>\n",
       "      <td>no</td>\n",
       "      <td>yes</td>\n",
       "      <td>2</td>\n",
       "      <td>no</td>\n",
       "      <td>furnished</td>\n",
       "    </tr>\n",
       "    <tr>\n",
       "      <th>...</th>\n",
       "      <td>...</td>\n",
       "      <td>...</td>\n",
       "      <td>...</td>\n",
       "      <td>...</td>\n",
       "      <td>...</td>\n",
       "      <td>...</td>\n",
       "      <td>...</td>\n",
       "      <td>...</td>\n",
       "      <td>...</td>\n",
       "      <td>...</td>\n",
       "      <td>...</td>\n",
       "      <td>...</td>\n",
       "      <td>...</td>\n",
       "    </tr>\n",
       "    <tr>\n",
       "      <th>95</th>\n",
       "      <td>6300000</td>\n",
       "      <td>4100</td>\n",
       "      <td>3</td>\n",
       "      <td>2</td>\n",
       "      <td>3</td>\n",
       "      <td>yes</td>\n",
       "      <td>no</td>\n",
       "      <td>no</td>\n",
       "      <td>no</td>\n",
       "      <td>yes</td>\n",
       "      <td>2</td>\n",
       "      <td>no</td>\n",
       "      <td>semi-furnished</td>\n",
       "    </tr>\n",
       "    <tr>\n",
       "      <th>96</th>\n",
       "      <td>6300000</td>\n",
       "      <td>9000</td>\n",
       "      <td>3</td>\n",
       "      <td>1</td>\n",
       "      <td>1</td>\n",
       "      <td>yes</td>\n",
       "      <td>no</td>\n",
       "      <td>yes</td>\n",
       "      <td>no</td>\n",
       "      <td>no</td>\n",
       "      <td>1</td>\n",
       "      <td>yes</td>\n",
       "      <td>furnished</td>\n",
       "    </tr>\n",
       "    <tr>\n",
       "      <th>97</th>\n",
       "      <td>6300000</td>\n",
       "      <td>6400</td>\n",
       "      <td>3</td>\n",
       "      <td>1</td>\n",
       "      <td>1</td>\n",
       "      <td>yes</td>\n",
       "      <td>yes</td>\n",
       "      <td>yes</td>\n",
       "      <td>no</td>\n",
       "      <td>yes</td>\n",
       "      <td>1</td>\n",
       "      <td>yes</td>\n",
       "      <td>semi-furnished</td>\n",
       "    </tr>\n",
       "    <tr>\n",
       "      <th>98</th>\n",
       "      <td>6293000</td>\n",
       "      <td>6600</td>\n",
       "      <td>3</td>\n",
       "      <td>2</td>\n",
       "      <td>3</td>\n",
       "      <td>yes</td>\n",
       "      <td>no</td>\n",
       "      <td>no</td>\n",
       "      <td>no</td>\n",
       "      <td>yes</td>\n",
       "      <td>0</td>\n",
       "      <td>yes</td>\n",
       "      <td>unfurnished</td>\n",
       "    </tr>\n",
       "    <tr>\n",
       "      <th>99</th>\n",
       "      <td>6265000</td>\n",
       "      <td>6000</td>\n",
       "      <td>4</td>\n",
       "      <td>1</td>\n",
       "      <td>3</td>\n",
       "      <td>yes</td>\n",
       "      <td>yes</td>\n",
       "      <td>yes</td>\n",
       "      <td>no</td>\n",
       "      <td>no</td>\n",
       "      <td>0</td>\n",
       "      <td>yes</td>\n",
       "      <td>unfurnished</td>\n",
       "    </tr>\n",
       "  </tbody>\n",
       "</table>\n",
       "<p>100 rows × 13 columns</p>\n",
       "</div>"
      ],
      "text/plain": [
       "       price  area  bedrooms  bathrooms  stories mainroad guestroom basement  \\\n",
       "0   13300000  7420         4          2        3      yes        no       no   \n",
       "1   12250000  8960         4          4        4      yes        no       no   \n",
       "2   12250000  9960         3          2        2      yes        no      yes   \n",
       "3   12215000  7500         4          2        2      yes        no      yes   \n",
       "4   11410000  7420         4          1        2      yes       yes      yes   \n",
       "..       ...   ...       ...        ...      ...      ...       ...      ...   \n",
       "95   6300000  4100         3          2        3      yes        no       no   \n",
       "96   6300000  9000         3          1        1      yes        no      yes   \n",
       "97   6300000  6400         3          1        1      yes       yes      yes   \n",
       "98   6293000  6600         3          2        3      yes        no       no   \n",
       "99   6265000  6000         4          1        3      yes       yes      yes   \n",
       "\n",
       "   hotwaterheating airconditioning  parking prefarea furnishingstatus  \n",
       "0               no             yes        2      yes        furnished  \n",
       "1               no             yes        3       no        furnished  \n",
       "2               no              no        2      yes   semi-furnished  \n",
       "3               no             yes        3      yes        furnished  \n",
       "4               no             yes        2       no        furnished  \n",
       "..             ...             ...      ...      ...              ...  \n",
       "95              no             yes        2       no   semi-furnished  \n",
       "96              no              no        1      yes        furnished  \n",
       "97              no             yes        1      yes   semi-furnished  \n",
       "98              no             yes        0      yes      unfurnished  \n",
       "99              no              no        0      yes      unfurnished  \n",
       "\n",
       "[100 rows x 13 columns]"
      ]
     },
     "execution_count": 18,
     "metadata": {},
     "output_type": "execute_result"
    }
   ],
   "source": [
    "import pandas as pd \n",
    "import matplotlib.pyplot as plt \n",
    "import seaborn as sns\n",
    "import numpy as np\n",
    "hd=pd.read_excel('Housing dataset.xlsx')\n",
    "hd\n"
   ]
  },
  {
   "cell_type": "code",
   "execution_count": 19,
   "id": "cc614cfd",
   "metadata": {},
   "outputs": [
    {
     "data": {
      "text/plain": [
       "100"
      ]
     },
     "execution_count": 19,
     "metadata": {},
     "output_type": "execute_result"
    }
   ],
   "source": [
    "# 1. Find total number of furnishingstatus\n",
    "hd['furnishingstatus'].count()"
   ]
  },
  {
   "cell_type": "code",
   "execution_count": 20,
   "id": "da4542e0",
   "metadata": {},
   "outputs": [
    {
     "data": {
      "text/plain": [
       "prefarea\n",
       "no     58\n",
       "yes    42\n",
       "Name: furnishingstatus, dtype: int64"
      ]
     },
     "execution_count": 20,
     "metadata": {},
     "output_type": "execute_result"
    }
   ],
   "source": [
    "# 2.Find total number of furnishingstatus by prefarea\n",
    "hd.groupby('prefarea').count()['furnishingstatus']"
   ]
  },
  {
   "cell_type": "code",
   "execution_count": 21,
   "id": "d87de9f9",
   "metadata": {},
   "outputs": [
    {
     "data": {
      "text/plain": [
       "airconditioning\n",
       "no     31\n",
       "yes    69\n",
       "Name: furnishingstatus, dtype: int64"
      ]
     },
     "execution_count": 21,
     "metadata": {},
     "output_type": "execute_result"
    }
   ],
   "source": [
    "# 3.Find total number of furnishingstatus by airconditioning\n",
    "hd.groupby('airconditioning').count()['furnishingstatus']"
   ]
  },
  {
   "cell_type": "code",
   "execution_count": 22,
   "id": "c86235b3",
   "metadata": {},
   "outputs": [
    {
     "data": {
      "text/plain": [
       "hotwaterheating\n",
       "no     90\n",
       "yes    10\n",
       "Name: furnishingstatus, dtype: int64"
      ]
     },
     "execution_count": 22,
     "metadata": {},
     "output_type": "execute_result"
    }
   ],
   "source": [
    "# 4.Find total number of furnishingstatus by hotwaterheating\n",
    "hd.groupby('hotwaterheating').count()['furnishingstatus']"
   ]
  },
  {
   "cell_type": "code",
   "execution_count": 23,
   "id": "d0f6c215",
   "metadata": {},
   "outputs": [
    {
     "data": {
      "text/plain": [
       "basement\n",
       "no     60\n",
       "yes    40\n",
       "Name: furnishingstatus, dtype: int64"
      ]
     },
     "execution_count": 23,
     "metadata": {},
     "output_type": "execute_result"
    }
   ],
   "source": [
    "# 5.Find total number of furnishingstatus bybasement\n",
    "hd.groupby('basement').count()['furnishingstatus']"
   ]
  },
  {
   "cell_type": "code",
   "execution_count": 24,
   "id": "38c71abf",
   "metadata": {},
   "outputs": [
    {
     "data": {
      "text/plain": [
       "guestroom\n",
       "no     72\n",
       "yes    28\n",
       "Name: furnishingstatus, dtype: int64"
      ]
     },
     "execution_count": 24,
     "metadata": {},
     "output_type": "execute_result"
    }
   ],
   "source": [
    "# 6.Find total number of furnishingstatus by guestroom\n",
    "hd.groupby('guestroom').count()['furnishingstatus']"
   ]
  },
  {
   "cell_type": "code",
   "execution_count": 30,
   "id": "e486c900",
   "metadata": {},
   "outputs": [
    {
     "name": "stderr",
     "output_type": "stream",
     "text": [
      "C:\\Users\\91984\\AppData\\Local\\Temp\\ipykernel_1860\\1610625607.py:2: FutureWarning: The default value of numeric_only in DataFrameGroupBy.sum is deprecated. In a future version, numeric_only will default to False. Either specify numeric_only or select only columns which should be valid for the function.\n",
      "  hd.groupby('furnishingstatus').sum()['bathrooms']\n"
     ]
    },
    {
     "data": {
      "text/plain": [
       "furnishingstatus\n",
       "furnished         79\n",
       "semi-furnished    62\n",
       "unfurnished       35\n",
       "Name: bathrooms, dtype: int64"
      ]
     },
     "execution_count": 30,
     "metadata": {},
     "output_type": "execute_result"
    }
   ],
   "source": [
    "# 7.Find total of furnishingstatus by bathrooms\n",
    "hd.groupby('furnishingstatus').sum()['bathrooms']"
   ]
  },
  {
   "cell_type": "code",
   "execution_count": 26,
   "id": "7f15bede",
   "metadata": {},
   "outputs": [
    {
     "data": {
      "text/plain": [
       "furnishingstatus\n",
       "furnished         45\n",
       "semi-furnished    35\n",
       "unfurnished       20\n",
       "Name: parking, dtype: int64"
      ]
     },
     "execution_count": 26,
     "metadata": {},
     "output_type": "execute_result"
    }
   ],
   "source": [
    "# 8.Find total number of furnishingstatus by parking\n",
    "hd.groupby('furnishingstatus').count()['parking']"
   ]
  },
  {
   "cell_type": "code",
   "execution_count": 29,
   "id": "eaf5cb2e",
   "metadata": {},
   "outputs": [
    {
     "name": "stderr",
     "output_type": "stream",
     "text": [
      "C:\\Users\\91984\\AppData\\Local\\Temp\\ipykernel_1860\\1852097527.py:2: FutureWarning: The default value of numeric_only in DataFrameGroupBy.sum is deprecated. In a future version, numeric_only will default to False. Either specify numeric_only or select only columns which should be valid for the function.\n",
      "  hd.groupby('furnishingstatus').sum()['bedrooms']\n"
     ]
    },
    {
     "data": {
      "text/plain": [
       "furnishingstatus\n",
       "furnished         151\n",
       "semi-furnished    115\n",
       "unfurnished        67\n",
       "Name: bedrooms, dtype: int64"
      ]
     },
     "execution_count": 29,
     "metadata": {},
     "output_type": "execute_result"
    }
   ],
   "source": [
    "# 9.Find total of furnishingstatus by bedrooms\n",
    "hd.groupby('furnishingstatus').sum()['bedrooms']"
   ]
  },
  {
   "cell_type": "code",
   "execution_count": 28,
   "id": "91d1a9d1",
   "metadata": {},
   "outputs": [
    {
     "data": {
      "text/plain": [
       "Index(['price', 'area', 'bedrooms', 'bathrooms', 'stories', 'mainroad',\n",
       "       'guestroom', 'basement', 'hotwaterheating', 'airconditioning',\n",
       "       'parking', 'prefarea', 'furnishingstatus'],\n",
       "      dtype='object')"
      ]
     },
     "execution_count": 28,
     "metadata": {},
     "output_type": "execute_result"
    }
   ],
   "source": [
    "hd.columns"
   ]
  },
  {
   "cell_type": "code",
   "execution_count": 31,
   "id": "713d12c5",
   "metadata": {},
   "outputs": [
    {
     "data": {
      "text/plain": [
       "785924440"
      ]
     },
     "execution_count": 31,
     "metadata": {},
     "output_type": "execute_result"
    }
   ],
   "source": [
    "# 10.Find total of Price \n",
    "hd['price'].sum()"
   ]
  },
  {
   "cell_type": "code",
   "execution_count": 32,
   "id": "a96d2b73",
   "metadata": {},
   "outputs": [
    {
     "data": {
      "text/plain": [
       "7859244.4"
      ]
     },
     "execution_count": 32,
     "metadata": {},
     "output_type": "execute_result"
    }
   ],
   "source": [
    "# 11.Find Average of Price \n",
    "hd['price'].mean()"
   ]
  },
  {
   "cell_type": "code",
   "execution_count": 33,
   "id": "1531456e",
   "metadata": {},
   "outputs": [
    {
     "data": {
      "text/plain": [
       "13300000"
      ]
     },
     "execution_count": 33,
     "metadata": {},
     "output_type": "execute_result"
    }
   ],
   "source": [
    "# 12 .Find Max of Price \n",
    "hd['price'].max()"
   ]
  },
  {
   "cell_type": "code",
   "execution_count": 34,
   "id": "2766ee7b",
   "metadata": {},
   "outputs": [
    {
     "data": {
      "text/plain": [
       "6265000"
      ]
     },
     "execution_count": 34,
     "metadata": {},
     "output_type": "execute_result"
    }
   ],
   "source": [
    "# 13.Find Mini of Price \n",
    "hd['price'].min()"
   ]
  },
  {
   "cell_type": "code",
   "execution_count": 35,
   "id": "fccb76d6",
   "metadata": {},
   "outputs": [
    {
     "data": {
      "text/plain": [
       "692757"
      ]
     },
     "execution_count": 35,
     "metadata": {},
     "output_type": "execute_result"
    }
   ],
   "source": [
    "# 14. Find total of area\n",
    "hd['area'].sum()"
   ]
  },
  {
   "cell_type": "code",
   "execution_count": 36,
   "id": "e1885397",
   "metadata": {},
   "outputs": [
    {
     "data": {
      "text/plain": [
       "6927.57"
      ]
     },
     "execution_count": 36,
     "metadata": {},
     "output_type": "execute_result"
    }
   ],
   "source": [
    "# 15 . Find Average  of area\n",
    "hd['area'].mean()"
   ]
  },
  {
   "cell_type": "code",
   "execution_count": 38,
   "id": "12db71b3",
   "metadata": {},
   "outputs": [
    {
     "data": {
      "text/plain": [
       "16200"
      ]
     },
     "execution_count": 38,
     "metadata": {},
     "output_type": "execute_result"
    }
   ],
   "source": [
    "# 16. Find Max of area\n",
    "hd['area'].max()"
   ]
  },
  {
   "cell_type": "code",
   "execution_count": 40,
   "id": "79eb1695",
   "metadata": {},
   "outputs": [
    {
     "data": {
      "text/plain": [
       "3500"
      ]
     },
     "execution_count": 40,
     "metadata": {},
     "output_type": "execute_result"
    }
   ],
   "source": [
    "# 17.Find Mini of area\n",
    "hd['area'].min()"
   ]
  },
  {
   "cell_type": "code",
   "execution_count": 42,
   "id": "d9691def",
   "metadata": {},
   "outputs": [
    {
     "name": "stderr",
     "output_type": "stream",
     "text": [
      "C:\\Users\\91984\\AppData\\Local\\Temp\\ipykernel_1860\\3342067483.py:2: FutureWarning: The default value of numeric_only in DataFrameGroupBy.sum is deprecated. In a future version, numeric_only will default to False. Either specify numeric_only or select only columns which should be valid for the function.\n",
      "  hd.groupby('furnishingstatus').sum()['stories']\n"
     ]
    },
    {
     "data": {
      "text/plain": [
       "furnishingstatus\n",
       "furnished         115\n",
       "semi-furnished     83\n",
       "unfurnished        56\n",
       "Name: stories, dtype: int64"
      ]
     },
     "execution_count": 42,
     "metadata": {},
     "output_type": "execute_result"
    }
   ],
   "source": [
    "# 18.Find total of stories by furnishingstatus \n",
    "hd.groupby('furnishingstatus').sum()['stories']"
   ]
  },
  {
   "cell_type": "code",
   "execution_count": 45,
   "id": "9fe7e906",
   "metadata": {},
   "outputs": [
    {
     "data": {
      "image/png": "[encoded data removed]",
      "text/plain": [
       "<Figure size 640x480 with 1 Axes>"
      ]
     },
     "metadata": {},
     "output_type": "display_data"
    }
   ],
   "source": [
    "# 19.create a count plot for furnishingstatus\n",
    "\n",
    "hd['furnishingstatus'].value_counts(normalize= True)\n",
    "hd['furnishingstatus'].value_counts(dropna= False).plot.bar(color='orange')\n",
    "plt.title('Comparison of furnishingstatus')\n",
    "plt.xlabel('furnishingstatus')\n",
    "plt.ylabel('Count')\n",
    "plt.show()"
   ]
  },
  {
   "cell_type": "code",
   "execution_count": 46,
   "id": "3c0ecc0b",
   "metadata": {},
   "outputs": [
    {
     "data": {
      "text/plain": [
       "([<matplotlib.patches.Wedge at 0x20d385ec6d0>,\n",
       "  <matplotlib.patches.Wedge at 0x20d385ee620>,\n",
       "  <matplotlib.patches.Wedge at 0x20d37c4fca0>,\n",
       "  <matplotlib.patches.Wedge at 0x20d3860b520>],\n",
       " [Text(0.33991867422268784, 1.0461621742897658, '2'),\n",
       "  Text(-1.0461621424642782, -0.3399187721714579, '4'),\n",
       "  Text(0.2735590195268535, -1.0654414403595849, '1'),\n",
       "  Text(1.0227541947586378, -0.40493685569926874, '3')],\n",
       " [Text(0.1854101859396479, 0.5706339132489631, '40.00%'),\n",
       "  Text(-0.5706338958896062, -0.18541023936624976, '30.00%'),\n",
       "  Text(0.149214010651011, -0.5811498765597735, '18.00%'),\n",
       "  Text(0.5578659244138024, -0.22087464856323746, '12.00%')])"
      ]
     },
     "execution_count": 46,
     "metadata": {},
     "output_type": "execute_result"
    },
    {
     "data": {
      "image/png": "[encoded data removed]",
      "text/plain": [
       "<Figure size 640x480 with 1 Axes>"
      ]
     },
     "metadata": {},
     "output_type": "display_data"
    }
   ],
   "source": [
    "# 20.Create a pie chart to show stories\n",
    "pie_label=hd.stories.value_counts().index\n",
    "pie_val=hd.stories.value_counts().values\n",
    "plt.pie(pie_val[:5],labels=pie_label[:5],autopct='%1.2f%%')"
   ]
  },
  {
   "cell_type": "code",
   "execution_count": null,
   "id": "35212670",
   "metadata": {},
   "outputs": [],
   "source": []
  }
 ],
 "metadata": {
  "kernelspec": {
   "display_name": "Python 3 (ipykernel)",
   "language": "python",
   "name": "python3"
  },
  "language_info": {
   "codemirror_mode": {
    "name": "ipython",
    "version": 3
   },
   "file_extension": ".py",
   "mimetype": "text/x-python",
   "name": "python",
   "nbconvert_exporter": "python",
   "pygments_lexer": "ipython3",
   "version": "3.10.9"
  }
 },
 "nbformat": 4,
 "nbformat_minor": 5
}
